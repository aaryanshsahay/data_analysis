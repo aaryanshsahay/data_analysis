{
 "cells": [
  {
   "cell_type": "markdown",
   "id": "b2526923",
   "metadata": {},
   "source": [
    "<h1>Stroke Prediction</h1>\n",
    "<h3>Using ROC to get the best model</h3>\n",
    "Find the dataset <a href='https://www.kaggle.com/fedesoriano/stroke-prediction-dataset'>here</a>\n",
    "<h4>-By Aaryansh Sahay</h4><br> Find me here:\n",
    "    <ul><li><a href='#'>Medium</a></li><li><a href='#'>Github</a></li></ul>\n",
    "<p>Aim: to select a model which will perform best and give the most accurate prediction using ROC curve. This notebook is a reference to  <a href='#'>ROC AUC implementation in Machine Learning</a> Article.<br><br></p>"
   ]
  },
  {
   "cell_type": "markdown",
   "id": "55454b72",
   "metadata": {},
   "source": [
    "<h3> Loading Dataset</h3>"
   ]
  },
  {
   "cell_type": "code",
   "execution_count": 2,
   "id": "dbfb80b7",
   "metadata": {},
   "outputs": [
    {
     "data": {
      "text/html": [
       "<div>\n",
       "<style scoped>\n",
       "    .dataframe tbody tr th:only-of-type {\n",
       "        vertical-align: middle;\n",
       "    }\n",
       "\n",
       "    .dataframe tbody tr th {\n",
       "        vertical-align: top;\n",
       "    }\n",
       "\n",
       "    .dataframe thead th {\n",
       "        text-align: right;\n",
       "    }\n",
       "</style>\n",
       "<table border=\"1\" class=\"dataframe\">\n",
       "  <thead>\n",
       "    <tr style=\"text-align: right;\">\n",
       "      <th></th>\n",
       "      <th>id</th>\n",
       "      <th>gender</th>\n",
       "      <th>age</th>\n",
       "      <th>hypertension</th>\n",
       "      <th>heart_disease</th>\n",
       "      <th>ever_married</th>\n",
       "      <th>work_type</th>\n",
       "      <th>Residence_type</th>\n",
       "      <th>avg_glucose_level</th>\n",
       "      <th>bmi</th>\n",
       "      <th>smoking_status</th>\n",
       "      <th>stroke</th>\n",
       "    </tr>\n",
       "  </thead>\n",
       "  <tbody>\n",
       "    <tr>\n",
       "      <th>0</th>\n",
       "      <td>9046</td>\n",
       "      <td>Male</td>\n",
       "      <td>67.0</td>\n",
       "      <td>0</td>\n",
       "      <td>1</td>\n",
       "      <td>Yes</td>\n",
       "      <td>Private</td>\n",
       "      <td>Urban</td>\n",
       "      <td>228.69</td>\n",
       "      <td>36.6</td>\n",
       "      <td>formerly smoked</td>\n",
       "      <td>1</td>\n",
       "    </tr>\n",
       "    <tr>\n",
       "      <th>1</th>\n",
       "      <td>51676</td>\n",
       "      <td>Female</td>\n",
       "      <td>61.0</td>\n",
       "      <td>0</td>\n",
       "      <td>0</td>\n",
       "      <td>Yes</td>\n",
       "      <td>Self-employed</td>\n",
       "      <td>Rural</td>\n",
       "      <td>202.21</td>\n",
       "      <td>NaN</td>\n",
       "      <td>never smoked</td>\n",
       "      <td>1</td>\n",
       "    </tr>\n",
       "    <tr>\n",
       "      <th>2</th>\n",
       "      <td>31112</td>\n",
       "      <td>Male</td>\n",
       "      <td>80.0</td>\n",
       "      <td>0</td>\n",
       "      <td>1</td>\n",
       "      <td>Yes</td>\n",
       "      <td>Private</td>\n",
       "      <td>Rural</td>\n",
       "      <td>105.92</td>\n",
       "      <td>32.5</td>\n",
       "      <td>never smoked</td>\n",
       "      <td>1</td>\n",
       "    </tr>\n",
       "    <tr>\n",
       "      <th>3</th>\n",
       "      <td>60182</td>\n",
       "      <td>Female</td>\n",
       "      <td>49.0</td>\n",
       "      <td>0</td>\n",
       "      <td>0</td>\n",
       "      <td>Yes</td>\n",
       "      <td>Private</td>\n",
       "      <td>Urban</td>\n",
       "      <td>171.23</td>\n",
       "      <td>34.4</td>\n",
       "      <td>smokes</td>\n",
       "      <td>1</td>\n",
       "    </tr>\n",
       "    <tr>\n",
       "      <th>4</th>\n",
       "      <td>1665</td>\n",
       "      <td>Female</td>\n",
       "      <td>79.0</td>\n",
       "      <td>1</td>\n",
       "      <td>0</td>\n",
       "      <td>Yes</td>\n",
       "      <td>Self-employed</td>\n",
       "      <td>Rural</td>\n",
       "      <td>174.12</td>\n",
       "      <td>24.0</td>\n",
       "      <td>never smoked</td>\n",
       "      <td>1</td>\n",
       "    </tr>\n",
       "  </tbody>\n",
       "</table>\n",
       "</div>"
      ],
      "text/plain": [
       "      id  gender   age  hypertension  heart_disease ever_married  \\\n",
       "0   9046    Male  67.0             0              1          Yes   \n",
       "1  51676  Female  61.0             0              0          Yes   \n",
       "2  31112    Male  80.0             0              1          Yes   \n",
       "3  60182  Female  49.0             0              0          Yes   \n",
       "4   1665  Female  79.0             1              0          Yes   \n",
       "\n",
       "       work_type Residence_type  avg_glucose_level   bmi   smoking_status  \\\n",
       "0        Private          Urban             228.69  36.6  formerly smoked   \n",
       "1  Self-employed          Rural             202.21   NaN     never smoked   \n",
       "2        Private          Rural             105.92  32.5     never smoked   \n",
       "3        Private          Urban             171.23  34.4           smokes   \n",
       "4  Self-employed          Rural             174.12  24.0     never smoked   \n",
       "\n",
       "   stroke  \n",
       "0       1  \n",
       "1       1  \n",
       "2       1  \n",
       "3       1  \n",
       "4       1  "
      ]
     },
     "execution_count": 2,
     "metadata": {},
     "output_type": "execute_result"
    }
   ],
   "source": [
    "import pandas as pd\n",
    "df=pd.read_csv(r'C:\\Users\\sahay\\Downloads\\data\\stroke.csv')\n",
    "df.head()"
   ]
  },
  {
   "cell_type": "markdown",
   "id": "7d4a8c9f",
   "metadata": {},
   "source": [
    "<h4>Dropping the 'id' column as it is not a feature.</h4>"
   ]
  },
  {
   "cell_type": "code",
   "execution_count": 3,
   "id": "862b0808",
   "metadata": {},
   "outputs": [],
   "source": [
    "df.drop('id',axis=1,inplace=True)"
   ]
  },
  {
   "cell_type": "markdown",
   "id": "b310baea",
   "metadata": {},
   "source": [
    "<h4>Checking the distinct values in 'smoking_status' column</h4>"
   ]
  },
  {
   "cell_type": "code",
   "execution_count": 4,
   "id": "80acb091",
   "metadata": {},
   "outputs": [
    {
     "data": {
      "text/plain": [
       "never smoked       1892\n",
       "Unknown            1544\n",
       "formerly smoked     885\n",
       "smokes              789\n",
       "Name: smoking_status, dtype: int64"
      ]
     },
     "execution_count": 4,
     "metadata": {},
     "output_type": "execute_result"
    }
   ],
   "source": [
    "df.smoking_status.value_counts()"
   ]
  },
  {
   "cell_type": "markdown",
   "id": "0d18da3a",
   "metadata": {},
   "source": [
    "<h4>Checking the total number of NA values in the dataset</h4>"
   ]
  },
  {
   "cell_type": "code",
   "execution_count": 5,
   "id": "d96feddf",
   "metadata": {},
   "outputs": [
    {
     "data": {
      "text/plain": [
       "gender                 0\n",
       "age                    0\n",
       "hypertension           0\n",
       "heart_disease          0\n",
       "ever_married           0\n",
       "work_type              0\n",
       "Residence_type         0\n",
       "avg_glucose_level      0\n",
       "bmi                  201\n",
       "smoking_status         0\n",
       "stroke                 0\n",
       "dtype: int64"
      ]
     },
     "execution_count": 5,
     "metadata": {},
     "output_type": "execute_result"
    }
   ],
   "source": [
    "df.isna().sum()"
   ]
  },
  {
   "cell_type": "code",
   "execution_count": 6,
   "id": "935103ea",
   "metadata": {},
   "outputs": [
    {
     "data": {
      "text/plain": [
       "5110"
      ]
     },
     "execution_count": 6,
     "metadata": {},
     "output_type": "execute_result"
    }
   ],
   "source": [
    "len(df)"
   ]
  },
  {
   "cell_type": "markdown",
   "id": "15bee199",
   "metadata": {},
   "source": [
    "<h4>Since the total number of na values is very less (Around 4%) , Dropping columns which contain na value</h4>"
   ]
  },
  {
   "cell_type": "code",
   "execution_count": 7,
   "id": "825c338f",
   "metadata": {},
   "outputs": [
    {
     "data": {
      "text/plain": [
       "gender               0\n",
       "age                  0\n",
       "hypertension         0\n",
       "heart_disease        0\n",
       "ever_married         0\n",
       "work_type            0\n",
       "Residence_type       0\n",
       "avg_glucose_level    0\n",
       "bmi                  0\n",
       "smoking_status       0\n",
       "stroke               0\n",
       "dtype: int64"
      ]
     },
     "execution_count": 7,
     "metadata": {},
     "output_type": "execute_result"
    }
   ],
   "source": [
    "df.dropna(inplace=True)\n",
    "df.isna().sum()"
   ]
  },
  {
   "cell_type": "markdown",
   "id": "2c551a63",
   "metadata": {},
   "source": [
    "<h4>Label Encoding the categorical columns</h4>"
   ]
  },
  {
   "cell_type": "code",
   "execution_count": 8,
   "id": "207311c0",
   "metadata": {},
   "outputs": [],
   "source": [
    "from sklearn.preprocessing import LabelEncoder\n",
    "le=LabelEncoder()"
   ]
  },
  {
   "cell_type": "code",
   "execution_count": 9,
   "id": "1a9148f7",
   "metadata": {},
   "outputs": [
    {
     "data": {
      "text/html": [
       "<div>\n",
       "<style scoped>\n",
       "    .dataframe tbody tr th:only-of-type {\n",
       "        vertical-align: middle;\n",
       "    }\n",
       "\n",
       "    .dataframe tbody tr th {\n",
       "        vertical-align: top;\n",
       "    }\n",
       "\n",
       "    .dataframe thead th {\n",
       "        text-align: right;\n",
       "    }\n",
       "</style>\n",
       "<table border=\"1\" class=\"dataframe\">\n",
       "  <thead>\n",
       "    <tr style=\"text-align: right;\">\n",
       "      <th></th>\n",
       "      <th>gender</th>\n",
       "      <th>age</th>\n",
       "      <th>hypertension</th>\n",
       "      <th>heart_disease</th>\n",
       "      <th>ever_married</th>\n",
       "      <th>work_type</th>\n",
       "      <th>Residence_type</th>\n",
       "      <th>avg_glucose_level</th>\n",
       "      <th>bmi</th>\n",
       "      <th>smoking_status</th>\n",
       "      <th>stroke</th>\n",
       "    </tr>\n",
       "  </thead>\n",
       "  <tbody>\n",
       "    <tr>\n",
       "      <th>0</th>\n",
       "      <td>1</td>\n",
       "      <td>67.0</td>\n",
       "      <td>0</td>\n",
       "      <td>1</td>\n",
       "      <td>1</td>\n",
       "      <td>2</td>\n",
       "      <td>1</td>\n",
       "      <td>228.69</td>\n",
       "      <td>36.6</td>\n",
       "      <td>1</td>\n",
       "      <td>1</td>\n",
       "    </tr>\n",
       "    <tr>\n",
       "      <th>2</th>\n",
       "      <td>1</td>\n",
       "      <td>80.0</td>\n",
       "      <td>0</td>\n",
       "      <td>1</td>\n",
       "      <td>1</td>\n",
       "      <td>2</td>\n",
       "      <td>0</td>\n",
       "      <td>105.92</td>\n",
       "      <td>32.5</td>\n",
       "      <td>2</td>\n",
       "      <td>1</td>\n",
       "    </tr>\n",
       "    <tr>\n",
       "      <th>3</th>\n",
       "      <td>0</td>\n",
       "      <td>49.0</td>\n",
       "      <td>0</td>\n",
       "      <td>0</td>\n",
       "      <td>1</td>\n",
       "      <td>2</td>\n",
       "      <td>1</td>\n",
       "      <td>171.23</td>\n",
       "      <td>34.4</td>\n",
       "      <td>3</td>\n",
       "      <td>1</td>\n",
       "    </tr>\n",
       "    <tr>\n",
       "      <th>4</th>\n",
       "      <td>0</td>\n",
       "      <td>79.0</td>\n",
       "      <td>1</td>\n",
       "      <td>0</td>\n",
       "      <td>1</td>\n",
       "      <td>3</td>\n",
       "      <td>0</td>\n",
       "      <td>174.12</td>\n",
       "      <td>24.0</td>\n",
       "      <td>2</td>\n",
       "      <td>1</td>\n",
       "    </tr>\n",
       "    <tr>\n",
       "      <th>5</th>\n",
       "      <td>1</td>\n",
       "      <td>81.0</td>\n",
       "      <td>0</td>\n",
       "      <td>0</td>\n",
       "      <td>1</td>\n",
       "      <td>2</td>\n",
       "      <td>1</td>\n",
       "      <td>186.21</td>\n",
       "      <td>29.0</td>\n",
       "      <td>1</td>\n",
       "      <td>1</td>\n",
       "    </tr>\n",
       "  </tbody>\n",
       "</table>\n",
       "</div>"
      ],
      "text/plain": [
       "   gender   age  hypertension  heart_disease  ever_married  work_type  \\\n",
       "0       1  67.0             0              1             1          2   \n",
       "2       1  80.0             0              1             1          2   \n",
       "3       0  49.0             0              0             1          2   \n",
       "4       0  79.0             1              0             1          3   \n",
       "5       1  81.0             0              0             1          2   \n",
       "\n",
       "   Residence_type  avg_glucose_level   bmi  smoking_status  stroke  \n",
       "0               1             228.69  36.6               1       1  \n",
       "2               0             105.92  32.5               2       1  \n",
       "3               1             171.23  34.4               3       1  \n",
       "4               0             174.12  24.0               2       1  \n",
       "5               1             186.21  29.0               1       1  "
      ]
     },
     "execution_count": 9,
     "metadata": {},
     "output_type": "execute_result"
    }
   ],
   "source": [
    "cols=['gender','ever_married','work_type','Residence_type','smoking_status']\n",
    "for i in cols:\n",
    "    df[i]=le.fit_transform(df[i])\n",
    "\n",
    "df.head()"
   ]
  },
  {
   "cell_type": "markdown",
   "id": "362ce333",
   "metadata": {},
   "source": [
    "<h4>Splitting the data into training set and testing set</h4>"
   ]
  },
  {
   "cell_type": "code",
   "execution_count": 10,
   "id": "ed9ccc28",
   "metadata": {},
   "outputs": [],
   "source": [
    "X=df[['gender','age','hypertension','heart_disease','ever_married','work_type','Residence_type','avg_glucose_level','bmi','smoking_status']]\n",
    "y=df['stroke']\n",
    "\n",
    "from sklearn.model_selection import train_test_split\n",
    "X_train,X_test,y_train,y_test=train_test_split(X,y,test_size=0.2,random_state=101)"
   ]
  },
  {
   "cell_type": "markdown",
   "id": "d9f7acff",
   "metadata": {},
   "source": [
    "<h4>Importing the neccessary machine learning modules and displaying the accuracy for each model</h4>"
   ]
  },
  {
   "cell_type": "code",
   "execution_count": 11,
   "id": "9aecc890",
   "metadata": {},
   "outputs": [
    {
     "name": "stdout",
     "output_type": "stream",
     "text": [
      "Accuracy for Logistic Regression is 0.9470468431771895\n",
      "Accuracy for Random Forest Classifier is 0.9460285132382892\n",
      "Accuracy for Gaussian Naive Bayes is 0.8686354378818737\n"
     ]
    }
   ],
   "source": [
    "from sklearn.linear_model import LogisticRegression\n",
    "from sklearn.ensemble import RandomForestClassifier\n",
    "from sklearn.naive_bayes import GaussianNB\n",
    "\n",
    "from sklearn import metrics\n",
    "\n",
    "model1=LogisticRegression(max_iter=3000)\n",
    "model1.fit(X_train,y_train)\n",
    "y1_pred=model1.predict(X_test)\n",
    "\n",
    "model2=RandomForestClassifier()\n",
    "model2.fit(X_train,y_train)\n",
    "y2_pred=model2.predict(X_test)\n",
    "\n",
    "model3=GaussianNB()\n",
    "model3.fit(X_train,y_train)\n",
    "y3_pred=model3.predict(X_test)\n",
    "\n",
    "models=['Logistic Regression','Random Forest Classifier','Gaussian Naive Bayes']\n",
    "preds=[y1_pred,y2_pred,y3_pred]\n",
    "for i,j in zip(models,preds):\n",
    "    print('Accuracy for {} is {}'.format(i,metrics.accuracy_score(y_test,j)))"
   ]
  },
  {
   "cell_type": "markdown",
   "id": "c1dc3f8c",
   "metadata": {},
   "source": [
    "<p><h4>After getting the accuracy of all the models , we'll:</h4>\n",
    "<ul><li>Calculatethe probability score</li><li> Get the FPR,TPR and threshold values</li><li>Get the auc score</li></ul> </p>"
   ]
  },
  {
   "cell_type": "code",
   "execution_count": 12,
   "id": "58af21bd",
   "metadata": {},
   "outputs": [],
   "source": [
    "y1_pred_proba=model1.predict_proba(X_test)[::,1]\n",
    "y2_pred_proba=model2.predict_proba(X_test)[::,1]\n",
    "y3_pred_proba=model3.predict_proba(X_test)[::,1]\n",
    "\n",
    "fpr1,tpr1,thresh1=metrics.roc_curve(y_test,y1_pred_proba)\n",
    "fpr2,tpr2,thresh2=metrics.roc_curve(y_test,y2_pred_proba)\n",
    "fpr3,tpr3,thresh3=metrics.roc_curve(y_test,y3_pred_proba)\n",
    "\n",
    "auc1=metrics.roc_auc_score(y_test,y1_pred_proba)\n",
    "auc2=metrics.roc_auc_score(y_test,y2_pred_proba)\n",
    "auc3=metrics.roc_auc_score(y_test,y3_pred_proba)"
   ]
  },
  {
   "cell_type": "markdown",
   "id": "8e914271",
   "metadata": {},
   "source": [
    "<h3>Plotting the curve using matplotlib</h3>"
   ]
  },
  {
   "cell_type": "code",
   "execution_count": 13,
   "id": "29dc716c",
   "metadata": {},
   "outputs": [
    {
     "data": {
      "image/png": "[encoded data removed]",
      "text/plain": [
       "<Figure size 1008x576 with 1 Axes>"
      ]
     },
     "metadata": {
      "needs_background": "light"
     },
     "output_type": "display_data"
    }
   ],
   "source": [
    "import matplotlib.pyplot as plt\n",
    "\n",
    "plt.figure(figsize=(14,8))\n",
    "plt.plot(fpr1,tpr1,label='Logistic Regression : {}'.format(str(auc1)))\n",
    "plt.plot(fpr2,tpr2,label='Random Forest Classifier : {}'.format(str(auc2)))\n",
    "plt.plot(fpr3,tpr3,label='Naive Bayes : {}'.format(str(auc3)))\n",
    "plt.legend(loc=4)\n",
    "plt.grid(color='b',ls='-.',lw=0.25)\n",
    "plt.xlabel('FPR',weight='bold',fontsize=18)\n",
    "plt.ylabel('TPR',weight='bold',fontsize=18)\n",
    "plt.title('ROC CURVE',weight='bold',fontsize=24)\n",
    "plt.show()"
   ]
  },
  {
   "cell_type": "markdown",
   "id": "3fcb0abf",
   "metadata": {},
   "source": [
    "<h4>Since logistic regression has the highest AUC score , it'll give the best accuracy(out of all). Plotting the graph for lit seperately.</h4>"
   ]
  },
  {
   "cell_type": "code",
   "execution_count": 37,
   "id": "0da8031e",
   "metadata": {},
   "outputs": [
    {
     "data": {
      "image/png": "[encoded data removed]",
      "text/plain": [
       "<Figure size 1008x576 with 1 Axes>"
      ]
     },
     "metadata": {
      "needs_background": "light"
     },
     "output_type": "display_data"
    }
   ],
   "source": [
    "\n",
    "plt.figure(figsize=(14,8))\n",
    "plt.plot(fpr1,tpr1)\n",
    "plt.grid(color='b',ls='-.',lw=0.25)\n",
    "plt.xlabel('TPR',fontsize=18,weight='bold')\n",
    "plt.ylabel('FPR',fontsize=18,weight='bold')\n",
    "plt.title('Logistic Regression ROC Curve',fontsize=24,weight='bold')\n",
    "plt.show()"
   ]
  },
  {
   "cell_type": "markdown",
   "id": "3ff9e49d",
   "metadata": {},
   "source": [
    "<h4>Plotting the point of maximum threshold on the graph which will give the best accuracy for logistic regression </h4>"
   ]
  },
  {
   "cell_type": "code",
   "execution_count": 38,
   "id": "83c68110",
   "metadata": {},
   "outputs": [
    {
     "data": {
      "image/png": "[encoded data removed]",
      "text/plain": [
       "<Figure size 1008x576 with 1 Axes>"
      ]
     },
     "metadata": {
      "needs_background": "light"
     },
     "output_type": "display_data"
    }
   ],
   "source": [
    "gmeans=tpr1*(1-fpr1)\n",
    "gmeans=np.sqrt(gmeans)\n",
    "ix=np.argmax(gmeans)\n",
    "\n",
    "\n",
    "plt.figure(figsize=(14,8))\n",
    "plt.plot(fpr1,tpr1)\n",
    "plt.scatter(fpr1[ix],tpr1[ix],marker='o',color='black')\n",
    "plt.grid(color='b',ls='-.',lw=0.25)\n",
    "plt.xlabel('TPR',fontsize=18,weight='bold')\n",
    "plt.ylabel('FPR',fontsize=18,weight='bold')\n",
    "plt.title('Logistic Regression ROC Curve',fontsize=24,weight='bold')\n",
    "plt.show()\n"
   ]
  },
  {
   "cell_type": "markdown",
   "id": "047bb379",
   "metadata": {},
   "source": [
    "<h4>Displaying the best threshold</h4>"
   ]
  },
  {
   "cell_type": "code",
   "execution_count": 40,
   "id": "a13b32cb",
   "metadata": {},
   "outputs": [
    {
     "name": "stdout",
     "output_type": "stream",
     "text": [
      "Best Threshold for Logistic Regression is:\n",
      "0.03489535763501357\n",
      "Geometric Mean: 0.7917325078188581\n"
     ]
    }
   ],
   "source": [
    "print('Best Threshold for Logistic Regression is:')\n",
    "print(thresh1[ix])\n",
    "print('Geometric Mean:',gmeans[ix])"
   ]
  }
 ],
 "metadata": {
  "kernelspec": {
   "display_name": "Python 3",
   "language": "python",
   "name": "python3"
  },
  "language_info": {
   "codemirror_mode": {
    "name": "ipython",
    "version": 3
   },
   "file_extension": ".py",
   "mimetype": "text/x-python",
   "name": "python",
   "nbconvert_exporter": "python",
   "pygments_lexer": "ipython3",
   "version": "3.8.8"
  }
 },
 "nbformat": 4,
 "nbformat_minor": 5
}
